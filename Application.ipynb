{
 "cells": [
  {
   "cell_type": "code",
   "execution_count": 1,
   "metadata": {},
   "outputs": [],
   "source": [
    "# Load Spark engine\n",
    "import findspark\n",
    "findspark.init()"
   ]
  },
  {
   "cell_type": "code",
   "execution_count": 2,
   "metadata": {},
   "outputs": [],
   "source": [
    "import sys\n",
    "import re\n",
    "from pyspark import SparkContext, SparkConf\n",
    "from pyspark.streaming import StreamingContext"
   ]
  },
  {
   "cell_type": "code",
   "execution_count": 3,
   "metadata": {},
   "outputs": [],
   "source": [
    "sc = SparkContext(master=\"local[2]\", appName=\"firstapplication\")\n",
    "sc.setLogLevel(\"ERROR\")\n",
    "ssc = StreamingContext(sc, 1)\n",
    "ssc.checkpoint(\"checkpoint\")"
   ]
  },
  {
   "cell_type": "code",
   "execution_count": 4,
   "metadata": {},
   "outputs": [],
   "source": [
    "lines = ssc.socketTextStream(\"localhost\", 8000)\n",
    "# open cmd and tylinpe: nc -lk 7000"
   ]
  },
  {
   "cell_type": "code",
   "execution_count": 5,
   "metadata": {},
   "outputs": [],
   "source": [
    "#remove the numbers from the streamed data.\n",
    "def remove_numbers(word):\n",
    "    result = ''.join([i for i in word if not i.isdigit()])\n",
    "    return result"
   ]
  },
  {
   "cell_type": "code",
   "execution_count": 6,
   "metadata": {},
   "outputs": [],
   "source": [
    "#remove all the symbols\n",
    "def remove_symbols(word):\n",
    "    result1 = re.sub(r'[^a-zA-Z_\\s]+', '', word)\n",
    "    return result1"
   ]
  },
  {
   "cell_type": "code",
   "execution_count": 7,
   "metadata": {},
   "outputs": [],
   "source": [
    "#remove white spaces\n",
    "def remove_spaces(word):\n",
    "    result2 = word.strip()\n",
    "    return result2"
   ]
  },
  {
   "cell_type": "code",
   "execution_count": 8,
   "metadata": {},
   "outputs": [],
   "source": [
    "#remove duplicates\n",
    "def remove_duplicates(word):\n",
    "    \n",
    "    word = ''.join(list(dict.fromkeys(list(word))))\n",
    "    return word"
   ]
  },
  {
   "cell_type": "code",
   "execution_count": 9,
   "metadata": {},
   "outputs": [],
   "source": [
    "#classify data based on the word length\n",
    "def text(word):\n",
    "    if len(word)>0 :\n",
    "        return len(word)\n",
    "    else :\n",
    "        return 0\n",
    "        \n",
    "    "
   ]
  },
  {
   "cell_type": "code",
   "execution_count": 10,
   "metadata": {},
   "outputs": [],
   "source": [
    "words = lines.flatMap(lambda line: line.split(\" \"))\n",
    "words = words.map(lambda word:remove_numbers(word))\n",
    "words = words.map(lambda word:remove_symbols(word))\n",
    "words = words.map(lambda word:remove_spaces(word))\n",
    "words = words.map(lambda word:remove_duplicates(word))\n",
    "words = words.map(lambda word:text(word))\n",
    "words = words.reduce(lambda a,b: a+b)\n",
    "\n",
    "\n",
    "#words.countByValueAndWindow(10, 5).pprint()\n",
    "words.window(10, 5).pprint()"
   ]
  },
  {
   "cell_type": "code",
   "execution_count": 11,
   "metadata": {},
   "outputs": [
    {
     "name": "stdout",
     "output_type": "stream",
     "text": [
      "-------------------------------------------\n",
      "Time: 2022-09-09 14:40:53\n",
      "-------------------------------------------\n",
      "\n",
      "-------------------------------------------\n",
      "Time: 2022-09-09 14:40:58\n",
      "-------------------------------------------\n",
      "\n",
      "-------------------------------------------\n",
      "Time: 2022-09-09 14:41:03\n",
      "-------------------------------------------\n",
      "8\n",
      "\n",
      "-------------------------------------------\n",
      "Time: 2022-09-09 14:41:08\n",
      "-------------------------------------------\n",
      "8\n",
      "10\n",
      "\n",
      "-------------------------------------------\n",
      "Time: 2022-09-09 14:41:13\n",
      "-------------------------------------------\n",
      "10\n",
      "4\n",
      "\n",
      "-------------------------------------------\n",
      "Time: 2022-09-09 14:41:18\n",
      "-------------------------------------------\n",
      "4\n",
      "\n",
      "-------------------------------------------\n",
      "Time: 2022-09-09 14:41:23\n",
      "-------------------------------------------\n",
      "\n",
      "-------------------------------------------\n",
      "Time: 2022-09-09 14:41:28\n",
      "-------------------------------------------\n",
      "7\n",
      "\n",
      "-------------------------------------------\n",
      "Time: 2022-09-09 14:41:33\n",
      "-------------------------------------------\n",
      "7\n",
      "\n",
      "-------------------------------------------\n",
      "Time: 2022-09-09 14:41:38\n",
      "-------------------------------------------\n",
      "6\n",
      "\n",
      "-------------------------------------------\n",
      "Time: 2022-09-09 14:41:43\n",
      "-------------------------------------------\n",
      "6\n",
      "\n",
      "-------------------------------------------\n",
      "Time: 2022-09-09 14:41:48\n",
      "-------------------------------------------\n",
      "\n",
      "-------------------------------------------\n",
      "Time: 2022-09-09 14:41:53\n",
      "-------------------------------------------\n",
      "\n"
     ]
    }
   ],
   "source": [
    "ssc.start()"
   ]
  },
  {
   "cell_type": "code",
   "execution_count": 12,
   "metadata": {},
   "outputs": [],
   "source": [
    "# Stop the Streaming session\n",
    "ssc.stop(stopSparkContext=True, stopGraceFully=True)"
   ]
  },
  {
   "cell_type": "code",
   "execution_count": null,
   "metadata": {},
   "outputs": [],
   "source": []
  }
 ],
 "metadata": {
  "kernelspec": {
   "display_name": "Python 3",
   "language": "python",
   "name": "python3"
  },
  "language_info": {
   "codemirror_mode": {
    "name": "ipython",
    "version": 3
   },
   "file_extension": ".py",
   "mimetype": "text/x-python",
   "name": "python",
   "nbconvert_exporter": "python",
   "pygments_lexer": "ipython3",
   "version": "3.8.3"
  }
 },
 "nbformat": 4,
 "nbformat_minor": 4
}
