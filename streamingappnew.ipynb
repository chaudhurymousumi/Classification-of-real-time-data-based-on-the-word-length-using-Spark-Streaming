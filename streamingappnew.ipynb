{
 "cells": [
  {
   "cell_type": "code",
   "execution_count": 1,
   "metadata": {},
   "outputs": [
    {
     "name": "stdout",
     "output_type": "stream",
     "text": [
      "Requirement already satisfied: pyspark in /home/bigdata/anaconda3/lib/python3.8/site-packages (3.2.1)\r\n",
      "Requirement already satisfied: py4j==0.10.9.3 in /home/bigdata/anaconda3/lib/python3.8/site-packages (from pyspark) (0.10.9.3)\r\n"
     ]
    }
   ],
   "source": [
    "# Load Spark engine\n",
    "!pip3 install pyspark\n",
    "import findspark\n",
    "findspark.init()"
   ]
  },
  {
   "cell_type": "code",
   "execution_count": 2,
   "metadata": {},
   "outputs": [],
   "source": [
    "import os\n",
    "import sys\n",
    "\n",
    "from pyspark.sql import SparkSession\n",
    "from pyspark.sql.functions import explode\n",
    "from pyspark.sql.functions import split\n",
    "\n",
    "from pyspark.sql import functions as F\n",
    "from pyspark.sql.functions import *\n",
    "import matplotlib.pyplot as plt\n",
    "import pandas as pd"
   ]
  },
  {
   "cell_type": "code",
   "execution_count": 3,
   "metadata": {},
   "outputs": [],
   "source": [
    "spark = SparkSession.builder.appName(\"StructuredStreaming_WordCount\").getOrCreate()"
   ]
  },
  {
   "cell_type": "code",
   "execution_count": 4,
   "metadata": {},
   "outputs": [],
   "source": [
    "# Create DataFrame representing the stream of input lines\n",
    "lines = spark.readStream.format(\"socket\").option(\"host\", \"localhost\").option(\"port\", 7000).load()"
   ]
  },
  {
   "cell_type": "code",
   "execution_count": 5,
   "metadata": {},
   "outputs": [],
   "source": [
    "# Split the lines into words\n",
    "words = lines.select(explode(split(lines.value, \" \")).alias(\"word\"))\n",
    "wordcounts=words.groupBy(\"word\").count()"
   ]
  },
  {
   "cell_type": "code",
   "execution_count": 6,
   "metadata": {},
   "outputs": [],
   "source": [
    "preprocessed_word = words.select(\n",
    "          \"word\", \n",
    "          regexp_replace('word', '[^a-zA-Z]+', '').alias('preprocessed_word')\n",
    "           )\n",
    "   \n",
    "   \n",
    "preprocessed_word = preprocessed_word.dropDuplicates()\n",
    "preprocessed_word = preprocessed_word.withColumn(\"Word_Length\",length(col(\"preprocessed_Word\")))\n",
    "preprocessed_word = preprocessed_word.withColumn(\"Length_Class\", when((col(\"Word_Length\") < 2), \"null\")\n",
    "                                       .when((col(\"Word_Length\") >= 6), 6)\n",
    "                                       .otherwise(col(\"Word_Length\"))\n",
    "                                      )\n",
    "new_word = preprocessed_word.groupBy(\"Length_Class\").count().where(col(\"Length_Class\") >= 2).orderBy('Length_Class', ascending=True)"
   ]
  },
  {
   "cell_type": "code",
   "execution_count": 7,
   "metadata": {},
   "outputs": [],
   "source": [
    "query = new_word.writeStream.outputMode(\"complete\").format(\"console\").start()\n",
    "\n",
    "# streamed input in the 7000 port\n",
    "#I am a student, my name is mousumi, hello mou, hello 123, how are you\n",
    "#I am fine, is it somethng interesting with you, can you tell me that?\n",
    "\n",
    "\n"
   ]
  },
  {
   "cell_type": "code",
   "execution_count": null,
   "metadata": {},
   "outputs": [],
   "source": [
    "query.awaitTermination()"
   ]
  },
  {
   "cell_type": "code",
   "execution_count": null,
   "metadata": {},
   "outputs": [],
   "source": []
  },
  {
   "cell_type": "code",
   "execution_count": null,
   "metadata": {},
   "outputs": [],
   "source": []
  },
  {
   "cell_type": "code",
   "execution_count": null,
   "metadata": {},
   "outputs": [],
   "source": []
  }
 ],
 "metadata": {
  "kernelspec": {
   "display_name": "Python 3",
   "language": "python",
   "name": "python3"
  },
  "language_info": {
   "codemirror_mode": {
    "name": "ipython",
    "version": 3
   },
   "file_extension": ".py",
   "mimetype": "text/x-python",
   "name": "python",
   "nbconvert_exporter": "python",
   "pygments_lexer": "ipython3",
   "version": "3.8.3"
  }
 },
 "nbformat": 4,
 "nbformat_minor": 4
}
